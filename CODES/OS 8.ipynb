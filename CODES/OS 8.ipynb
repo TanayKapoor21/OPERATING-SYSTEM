{
 "cells": [
  {
   "cell_type": "markdown",
   "id": "f4b1ffa5",
   "metadata": {},
   "source": [
    "# ROUND ROBIN"
   ]
  },
  {
   "cell_type": "code",
   "execution_count": 2,
   "id": "035620dd",
   "metadata": {},
   "outputs": [
    {
     "name": "stdout",
     "output_type": "stream",
     "text": [
      "PID\tArrival Time\tBurst Time\tWaiting Time\tTurnaround Time\n",
      "1\t0\t\t12\t\t8\t\t20\n",
      "2\t2\t\t9\t\t18\t\t27\n",
      "3\t1\t\t8\t\t19\t\t27\n",
      "\n",
      "Average Waiting Time: 15.00\n",
      "Average Turnaround Time: 24.67\n"
     ]
    }
   ],
   "source": [
    "def round_robin(processes, quantum):\n",
    "    n = len(processes)\n",
    "   \n",
    "    # Initialize waiting time, turnaround time, and remaining burst time\n",
    "    waiting_time = [0] * n\n",
    "    turnaround_time = [0] * n\n",
    "    remaining_burst_time = [bt for pid, at, bt in processes]\n",
    "   \n",
    "    current_time = 0  # Keep track of the current time\n",
    "    completed_processes = 0  # Number of completed processes\n",
    "    process_queue = []  # Queue to store process indices in Round Robin order\n",
    "   \n",
    "    while completed_processes < n:\n",
    "        for i in range(n):\n",
    "            pid, arrival_time, burst_time = processes[i]\n",
    "           \n",
    "            # Add process to the queue if it has arrived and is not yet completed\n",
    "            if arrival_time <= current_time and remaining_burst_time[i] > 0 and i not in process_queue:\n",
    "                process_queue.append(i)\n",
    "       \n",
    "        if process_queue:\n",
    "            # Get the next process index from the queue\n",
    "            i = process_queue.pop(0)\n",
    "            pid, arrival_time, burst_time = processes[i]\n",
    "           \n",
    "            # Execute the process for the time quantum or the remaining burst time\n",
    "            if remaining_burst_time[i] > quantum:\n",
    "                current_time += quantum\n",
    "                remaining_burst_time[i] -= quantum\n",
    "                # Add the process back to the queue if it's not finished\n",
    "                process_queue.append(i)\n",
    "            else:\n",
    "                # Process completes execution\n",
    "                current_time += remaining_burst_time[i]\n",
    "                waiting_time[i] = current_time - burst_time - arrival_time\n",
    "                remaining_burst_time[i] = 0\n",
    "                turnaround_time[i] = waiting_time[i] + burst_time\n",
    "                completed_processes += 1\n",
    "        else:\n",
    "            # If no process has arrived by the current time, move to the next time unit\n",
    "            current_time += 1\n",
    "\n",
    "    # Display process details\n",
    "    print(\"PID\\tArrival Time\\tBurst Time\\tWaiting Time\\tTurnaround Time\")\n",
    "    for i in range(n):\n",
    "        pid, arrival_time, burst_time = processes[i]\n",
    "        print(f\"{pid}\\t{arrival_time}\\t\\t{burst_time}\\t\\t{waiting_time[i]}\\t\\t{turnaround_time[i]}\")\n",
    "   \n",
    "    # Calculate and display average waiting time and turnaround time\n",
    "    avg_waiting_time = sum(waiting_time) / n\n",
    "    avg_turnaround_time = sum(turnaround_time) / n\n",
    "    print(f\"\\nAverage Waiting Time: {avg_waiting_time:.2f}\")\n",
    "    print(f\"Average Turnaround Time: {avg_turnaround_time:.2f}\")\n",
    "\n",
    "# Example usage\n",
    "if __name__ == \"__main__\":\n",
    "    # List of processes with [Process ID, Arrival Time, Burst Time]\n",
    "    processes = [\n",
    "        [1, 0, 12],  # Process 1 with Arrival Time 0 and Burst Time 10\n",
    "        [2, 2, 9],   # Process 2 with Arrival Time 2 and Burst Time 5\n",
    "        [3, 1, 8],   # Process 3 with Arrival Time 1 and Burst Time 8\n",
    "    ]\n",
    "\n",
    "    quantum = 4  # Time quantum\n",
    "\n",
    "    # Perform Round Robin Scheduling\n",
    "    round_robin(processes, quantum)\n"
   ]
  },
  {
   "cell_type": "code",
   "execution_count": null,
   "id": "24eed281",
   "metadata": {},
   "outputs": [],
   "source": []
  }
 ],
 "metadata": {
  "kernelspec": {
   "display_name": "Python 3 (ipykernel)",
   "language": "python",
   "name": "python3"
  },
  "language_info": {
   "codemirror_mode": {
    "name": "ipython",
    "version": 3
   },
   "file_extension": ".py",
   "mimetype": "text/x-python",
   "name": "python",
   "nbconvert_exporter": "python",
   "pygments_lexer": "ipython3",
   "version": "3.11.3"
  }
 },
 "nbformat": 4,
 "nbformat_minor": 5
}
