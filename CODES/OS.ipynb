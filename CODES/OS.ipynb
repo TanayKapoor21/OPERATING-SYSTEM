{
 "cells": [
  {
   "cell_type": "code",
   "execution_count": 5,
   "id": "48105508-85ac-4fa9-9832-8cbcbf56d5a2",
   "metadata": {},
   "outputs": [
    {
     "name": "stdout",
     "output_type": "stream",
     "text": [
      "Process 1: Waiting Time: 0, Turnaround Time: 5\n",
      "Process 2: Waiting Time: 4, Turnaround Time: 7\n",
      "Process 3: Waiting Time: 6, Turnaround Time: 14\n",
      "Process 4: Waiting Time: 13, Turnaround Time: 19\n",
      "\n",
      "Average Waiting Time: 5.75\n",
      "Average Turnaround Time: 11.25\n"
     ]
    }
   ],
   "source": [
    "# List of processes with id, arrival time, and burst time\n",
    "processes = [\n",
    "    {'id': 1, 'arrival_time': 0, 'burst_time': 5},\n",
    "    {'id': 2, 'arrival_time': 1, 'burst_time': 3},\n",
    "    {'id': 3, 'arrival_time': 2, 'burst_time': 8},\n",
    "    {'id': 4, 'arrival_time': 3, 'burst_time': 6}\n",
    "]\n",
    "\n",
    "# Sorting processes by arrival time\n",
    "processes.sort(key=lambda x: x['arrival_time'])\n",
    "\n",
    "current_time = 0\n",
    "total_waiting_time = 0\n",
    "total_turnaround_time = 0\n",
    "\n",
    "# Iterating over each process\n",
    "for process in processes:\n",
    "    if current_time < process['arrival_time']:\n",
    "        current_time = process['arrival_time']\n",
    "\n",
    "    waiting_time = current_time - process['arrival_time']\n",
    "    turnaround_time = waiting_time + process['burst_time']\n",
    "\n",
    "    total_waiting_time += waiting_time\n",
    "    total_turnaround_time += turnaround_time\n",
    "\n",
    "    print(f\"Process {process['id']}: Waiting Time: {waiting_time}, Turnaround Time: {turnaround_time}\")\n",
    "\n",
    "    # Update current time after the process finishes\n",
    "    current_time += process['burst_time']\n",
    "\n",
    "# Calculating average waiting and turnaround times\n",
    "avg_waiting_time = total_waiting_time / len(processes)\n",
    "avg_turnaround_time = total_turnaround_time / len(processes)\n",
    "\n",
    "print(f\"\\nAverage Waiting Time: {avg_waiting_time}\")\n",
    "print(f\"Average Turnaround Time: {avg_turnaround_time}\")\n"
   ]
  },
  {
   "cell_type": "code",
   "execution_count": 7,
   "id": "fbe75690-d00a-430b-8c06-f2950f7295eb",
   "metadata": {},
   "outputs": [
    {
     "name": "stdout",
     "output_type": "stream",
     "text": [
      "Process 1: Waiting Time: 0, Turnaround Time: 5\n",
      "Process 2: Waiting Time: 5, Turnaround Time: 8\n",
      "Process 3: Waiting Time: 8, Turnaround Time: 16\n",
      "Process 4: Waiting Time: 16, Turnaround Time: 22\n",
      "\n",
      "Average Waiting Time: 7.25\n",
      "Average Turnaround Time: 12.75\n"
     ]
    }
   ],
   "source": [
    "# List of processes with id and burst time (no arrival time considered)\n",
    "processes = [\n",
    "    {'id': 1, 'burst_time': 5},\n",
    "    {'id': 2, 'burst_time': 3},\n",
    "    {'id': 3, 'burst_time': 8},\n",
    "    {'id': 4, 'burst_time': 6}\n",
    "]\n",
    "\n",
    "current_time = 0\n",
    "total_waiting_time = 0\n",
    "total_turnaround_time = 0\n",
    "\n",
    "# Iterating over each process\n",
    "for process in processes:\n",
    "    waiting_time = current_time\n",
    "    turnaround_time = waiting_time + process['burst_time']\n",
    "\n",
    "    total_waiting_time += waiting_time\n",
    "    total_turnaround_time += turnaround_time\n",
    "\n",
    "    print(f\"Process {process['id']}: Waiting Time: {waiting_time}, Turnaround Time: {turnaround_time}\")\n",
    "\n",
    "    # Update current time after the process finishes\n",
    "    current_time += process['burst_time']\n",
    "\n",
    "# Calculating average waiting and turnaround times\n",
    "avg_waiting_time = total_waiting_time / len(processes)\n",
    "avg_turnaround_time = total_turnaround_time / len(processes)\n",
    "\n",
    "print(f\"\\nAverage Waiting Time: {avg_waiting_time}\")\n",
    "print(f\"Average Turnaround Time: {avg_turnaround_time}\")\n"
   ]
  },
  {
   "cell_type": "code",
   "execution_count": null,
   "id": "afd67c99-b2bd-4562-b71a-c57d06e5cde7",
   "metadata": {},
   "outputs": [],
   "source": []
  }
 ],
 "metadata": {
  "kernelspec": {
   "display_name": "Python 3 (ipykernel)",
   "language": "python",
   "name": "python3"
  },
  "language_info": {
   "codemirror_mode": {
    "name": "ipython",
    "version": 3
   },
   "file_extension": ".py",
   "mimetype": "text/x-python",
   "name": "python",
   "nbconvert_exporter": "python",
   "pygments_lexer": "ipython3",
   "version": "3.11.3"
  }
 },
 "nbformat": 4,
 "nbformat_minor": 5
}
