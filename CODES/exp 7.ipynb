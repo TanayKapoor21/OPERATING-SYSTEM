{
 "cells": [
  {
   "cell_type": "markdown",
   "id": "6934628a",
   "metadata": {},
   "source": [
    "# the priority scheduling"
   ]
  },
  {
   "cell_type": "code",
   "execution_count": 1,
   "id": "a6de7372",
   "metadata": {},
   "outputs": [
    {
     "name": "stdout",
     "output_type": "stream",
     "text": [
      "Enter the number of processes: 3\n",
      "\n",
      "Process 1:\n",
      "Enter burst time: 5\n",
      "Enter priority (lower number = higher priority): 2\n",
      "\n",
      "Process 2:\n",
      "Enter burst time: 6\n",
      "Enter priority (lower number = higher priority): 1\n",
      "\n",
      "Process 3:\n",
      "Enter burst time: 9\n",
      "Enter priority (lower number = higher priority): 3\n",
      "\n",
      "Process ID\tPriority\tBurst Time\tWaiting Time\tTurnaround Time\n",
      "2\t\t1\t\t6\t\t0\t\t6\n",
      "1\t\t2\t\t5\t\t6\t\t11\n",
      "3\t\t3\t\t9\t\t11\t\t20\n",
      "\n",
      "Average Waiting Time: 5.67\n",
      "Average Turnaround Time: 12.33\n"
     ]
    }
   ],
   "source": [
    "n = int(input(\"Enter the number of processes: \"))\n",
    "process_id = []\n",
    "burst_time = []\n",
    "priority = []\n",
    "waiting_time = [0] * n\n",
    "turnaround_time = [0] * n\n",
    "for i in range(n):\n",
    "    print(f\"\\nProcess {i + 1}:\")\n",
    "    process_id.append(i + 1)  \n",
    "    burst_time.append(int(input(\"Enter burst time: \")))\n",
    "    priority.append(int(input(\"Enter priority (lower number = higher priority): \")))\n",
    "for i in range(n):\n",
    "    for j in range(i + 1, n):\n",
    "        if priority[i] > priority[j]:\n",
    "            priority[i], priority[j] = priority[j], priority[i]\n",
    "            burst_time[i], burst_time[j] = burst_time[j], burst_time[i]\n",
    "            process_id[i], process_id[j] = process_id[j], process_id[i]\n",
    "waiting_time[0] = 0  \n",
    "for i in range(1, n):\n",
    "    waiting_time[i] = waiting_time[i - 1] + burst_time[i - 1]\n",
    "for i in range(n):\n",
    "    turnaround_time[i] = burst_time[i] + waiting_time[i]\n",
    "print(\"\\nProcess ID\\tPriority\\tBurst Time\\tWaiting Time\\tTurnaround Time\")\n",
    "total_waiting_time = 0\n",
    "total_turnaround_time = 0\n",
    "for i in range(n):\n",
    "    print(f\"{process_id[i]}\\t\\t{priority[i]}\\t\\t{burst_time[i]}\\t\\t{waiting_time[i]}\\t\\t{turnaround_time[i]}\")\n",
    "    total_waiting_time += waiting_time[i]\n",
    "    total_turnaround_time += turnaround_time[i]\n",
    "avg_waiting_time = total_waiting_time / n\n",
    "avg_turnaround_time = total_turnaround_time / n\n",
    "\n",
    "print(f\"\\nAverage Waiting Time: {avg_waiting_time:.2f}\")\n",
    "print(f\"Average Turnaround Time: {avg_turnaround_time:.2f}\")"
   ]
  },
  {
   "cell_type": "markdown",
   "id": "e662bb37",
   "metadata": {},
   "source": [
    "# The Priority Scheduling"
   ]
  },
  {
   "cell_type": "code",
   "execution_count": 3,
   "id": "ac35d6ad",
   "metadata": {},
   "outputs": [
    {
     "name": "stdout",
     "output_type": "stream",
     "text": [
      "PID\tArrival Time\tBurst Time\tPriority\tWaiting Time\tTurnaround Time\n",
      "1\t0\t\t10\t\t2\t\t0\t\t10\n",
      "2\t3\t\t6\t\t0\t\t7\t\t13\n",
      "3\t3\t\t8\t\t1\t\t13\t\t21\n",
      "\n",
      "Average Waiting Time: 6.67\n",
      "Average Turnaround Time: 14.67\n"
     ]
    }
   ],
   "source": [
    "def sort_by_arrival_and_priority(processes):\n",
    "    # Selection sort to sort processes by arrival time first, then by priority\n",
    "    for i in range(len(processes)):\n",
    "        min_index = i\n",
    "        for j in range(i + 1, len(processes)):\n",
    "            # Sort primarily by arrival time, then by priority if arrival times are the same\n",
    "            if (processes[j][1] < processes[min_index][1]) or \\\n",
    "               (processes[j][1] == processes[min_index][1] and processes[j][3] < processes[min_index][3]):\n",
    "                min_index = j\n",
    "        # Swap processes\n",
    "        processes[i], processes[min_index] = processes[min_index], processes[i]\n",
    "\n",
    "# Function to perform Priority Scheduling (Non-Preemptive) with Arrival Time\n",
    "def priority_scheduling(processes):\n",
    "    # Sort processes by arrival time and priority\n",
    "    sort_by_arrival_and_priority(processes)\n",
    "\n",
    "    total_waiting_time = 0\n",
    "    total_turnaround_time = 0\n",
    "    current_time = 0\n",
    "\n",
    "    print(\"PID\\tArrival Time\\tBurst Time\\tPriority\\tWaiting Time\\tTurnaround Time\")\n",
    "   \n",
    "    for process in processes:\n",
    "        pid, arrival_time, burst_time, priority = process\n",
    "       \n",
    "        # If the current time is less than the arrival time, wait until the process arrives\n",
    "        if current_time < arrival_time:\n",
    "            current_time = arrival_time\n",
    "       \n",
    "        # Waiting time is current time minus arrival time\n",
    "        waiting_time = current_time - arrival_time\n",
    "       \n",
    "        # Turnaround time is waiting time + burst time\n",
    "        turnaround_time = waiting_time + burst_time\n",
    "\n",
    "        # Print the current process details\n",
    "        print(f\"{pid}\\t{arrival_time}\\t\\t{burst_time}\\t\\t{priority}\\t\\t{waiting_time}\\t\\t{turnaround_time}\")\n",
    "       \n",
    "        # Update total waiting and turnaround time\n",
    "        total_waiting_time += waiting_time\n",
    "        total_turnaround_time += turnaround_time\n",
    "       \n",
    "        # Update current time to the end of this process's burst time\n",
    "        current_time += burst_time\n",
    "\n",
    "    # Calculate average waiting and turnaround time\n",
    "    avg_waiting_time = total_waiting_time / len(processes)\n",
    "    avg_turnaround_time = total_turnaround_time / len(processes)\n",
    "\n",
    "    print(f\"\\nAverage Waiting Time: {avg_waiting_time:.2f}\")\n",
    "    print(f\"Average Turnaround Time: {avg_turnaround_time:.2f}\")\n",
    "\n",
    "# Example usage\n",
    "if __name__ == \"__main__\":\n",
    "    # List of processes with [Process ID, Arrival Time, Burst Time, Priority]\n",
    "    processes = [\n",
    "        [1, 0, 10, 2],  # Process 1 with Arrival Time 0, Burst Time 10, and Priority 2\n",
    "        [2, 3, 6, 0],   # Process 2 with Arrival Time 2, Burst Time 5, and Priority 0\n",
    "        [3, 3, 8, 1],   # Process 3 with Arrival Time 1, Burst Time 8, and Priority 1\n",
    "    ]\n",
    "\n",
    "    # Perform Priority Scheduling\n",
    "    priority_scheduling(processes)"
   ]
  },
  {
   "cell_type": "code",
   "execution_count": null,
   "id": "a332a1df",
   "metadata": {},
   "outputs": [],
   "source": []
  }
 ],
 "metadata": {
  "kernelspec": {
   "display_name": "Python 3 (ipykernel)",
   "language": "python",
   "name": "python3"
  },
  "language_info": {
   "codemirror_mode": {
    "name": "ipython",
    "version": 3
   },
   "file_extension": ".py",
   "mimetype": "text/x-python",
   "name": "python",
   "nbconvert_exporter": "python",
   "pygments_lexer": "ipython3",
   "version": "3.11.3"
  }
 },
 "nbformat": 4,
 "nbformat_minor": 5
}
