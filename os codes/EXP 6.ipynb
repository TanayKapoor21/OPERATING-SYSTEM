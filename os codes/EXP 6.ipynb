{
 "cells": [
  {
   "cell_type": "markdown",
   "id": "51e46bf4",
   "metadata": {},
   "source": [
    "# SJF"
   ]
  },
  {
   "cell_type": "code",
   "execution_count": 2,
   "id": "8b7193e5",
   "metadata": {},
   "outputs": [
    {
     "name": "stdout",
     "output_type": "stream",
     "text": [
      "\n",
      "Process\tBurst Time\tWaiting Time\tTurnaround Time\n",
      "P3\t6\t\t0\t\t6\n",
      "P4\t8\t\t6\t\t14\n",
      "P2\t9\t\t14\t\t23\n",
      "P1\t11\t\t23\t\t34\n",
      "\n",
      "Average Waiting Time: 10.75\n",
      "Average Turnaround Time: 19.25\n"
     ]
    }
   ],
   "source": [
    "def sjf_non_preemptive():\n",
    "    processes = [\n",
    "        [\"P1\", 11],\n",
    "        [\"P2\", 9],\n",
    "        [\"P3\", 6],\n",
    "        [\"P4\", 8]\n",
    "    ]\n",
    "   \n",
    "    n = len(processes)\n",
    "\n",
    "    for i in range(n):\n",
    "        for j in range(i + 1, n):\n",
    "            if processes[i][1] > processes[j][1]:\n",
    "                processes[i], processes[j] = processes[j], processes[i]\n",
    "\n",
    "    current_time = 0\n",
    "    total_waiting_time = 0\n",
    "    total_turnaround_time = 0\n",
    "   \n",
    "    print(\"\\nProcess\\tBurst Time\\tWaiting Time\\tTurnaround Time\")\n",
    "   \n",
    "    for process in processes:\n",
    "        pid, burst_time = process\n",
    "        waiting_time = current_time\n",
    "        total_waiting_time += waiting_time\n",
    "        turnaround_time = waiting_time + burst_time\n",
    "        total_turnaround_time += turnaround_time\n",
    "        current_time += burst_time\n",
    "        print(f\"{pid}\\t{burst_time}\\t\\t{waiting_time}\\t\\t{turnaround_time}\")\n",
    "   \n",
    "    avg_waiting_time = total_waiting_time / n\n",
    "    avg_turnaround_time = total_turnaround_time / n\n",
    "   \n",
    "    print(f\"\\nAverage Waiting Time: {avg_waiting_time:.2f}\")\n",
    "    print(f\"Average Turnaround Time: {avg_turnaround_time:.2f}\")\n",
    "\n",
    "sjf_non_preemptive()\n"
   ]
  },
  {
   "cell_type": "markdown",
   "id": "7d680a00",
   "metadata": {},
   "source": [
    "# SJTF"
   ]
  },
  {
   "cell_type": "code",
   "execution_count": 8,
   "id": "57823382",
   "metadata": {},
   "outputs": [
    {
     "name": "stdout",
     "output_type": "stream",
     "text": [
      "\n",
      "Process\tBurst Time\tWaiting Time\tTurnaround Time\n",
      "P1\t6\t\t0\t\t6\n",
      "P2\t9\t\t12\t\t21\n",
      "P3\t7\t\t3\t\t10\n",
      "P4\t10\t\t16\t\t26\n",
      "\n",
      "Average Waiting Time: 7.75\n",
      "Average Turnaround Time: 15.75\n"
     ]
    }
   ],
   "source": [
    "def srtf_preemptive():\n",
    "    processes = [\n",
    "        [\"P1\", 0, 6],\n",
    "        [\"P2\", 1, 9],\n",
    "        [\"P3\", 3, 7],\n",
    "        [\"P4\", 6, 10]\n",
    "    ]\n",
    "    n = len(processes)\n",
    "    remaining_time = [process[2] for process in processes]\n",
    "    complete = 0\n",
    "    t = 0\n",
    "    min_time = float('inf')\n",
    "    shortest = 0\n",
    "    finish_time = 0\n",
    "    total_waiting_time = 0\n",
    "    total_turnaround_time = 0\n",
    "    check = False\n",
    "    waiting_time_list = [0] * n\n",
    "    turnaround_time_list = [0] * n\n",
    "    while complete != n:\n",
    "        for j in range(n):\n",
    "            if processes[j][1] <= t and remaining_time[j] < min_time and remaining_time[j] > 0:\n",
    "                min_time = remaining_time[j]\n",
    "                shortest = j\n",
    "                check = True\n",
    "        if not check:\n",
    "            t += 1\n",
    "            continue\n",
    "        remaining_time[shortest] -= 1\n",
    "        min_time = remaining_time[shortest]\n",
    "        if min_time == 0:\n",
    "            min_time = float('inf')\n",
    "        if remaining_time[shortest] == 0:\n",
    "            complete += 1\n",
    "            finish_time = t + 1\n",
    "            waiting_time = finish_time - processes[shortest][1] - processes[shortest][2]\n",
    "            waiting_time = max(0, waiting_time)\n",
    "            turnaround_time = finish_time - processes[shortest][1]\n",
    "            waiting_time_list[shortest] = waiting_time\n",
    "            turnaround_time_list[shortest] = turnaround_time\n",
    "            total_waiting_time += waiting_time\n",
    "            total_turnaround_time += turnaround_time\n",
    "        t += 1\n",
    "    avg_waiting_time = total_waiting_time / n\n",
    "    avg_turnaround_time = total_turnaround_time / n\n",
    "    print(\"\\nProcess\\tBurst Time\\tWaiting Time\\tTurnaround Time\")\n",
    "    for i in range(n):\n",
    "        print(f\"{processes[i][0]}\\t{processes[i][2]}\\t\\t{waiting_time_list[i]}\\t\\t{turnaround_time_list[i]}\")\n",
    "    print(f\"\\nAverage Waiting Time: {avg_waiting_time:.2f}\")\n",
    "    print(f\"Average Turnaround Time: {avg_turnaround_time:.2f}\")\n",
    "srtf_preemptive()\n"
   ]
  },
  {
   "cell_type": "code",
   "execution_count": null,
   "id": "be3be2f7",
   "metadata": {},
   "outputs": [],
   "source": []
  }
 ],
 "metadata": {
  "kernelspec": {
   "display_name": "Python 3 (ipykernel)",
   "language": "python",
   "name": "python3"
  },
  "language_info": {
   "codemirror_mode": {
    "name": "ipython",
    "version": 3
   },
   "file_extension": ".py",
   "mimetype": "text/x-python",
   "name": "python",
   "nbconvert_exporter": "python",
   "pygments_lexer": "ipython3",
   "version": "3.11.3"
  }
 },
 "nbformat": 4,
 "nbformat_minor": 5
}
