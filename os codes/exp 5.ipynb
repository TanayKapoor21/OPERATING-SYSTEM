{
 "cells": [
  {
   "cell_type": "code",
   "execution_count": 3,
   "id": "1dfc0a7b",
   "metadata": {},
   "outputs": [
    {
     "name": "stdout",
     "output_type": "stream",
     "text": [
      "Enter the number of processes: 5\n",
      "Enter arrival time for process 1: 0\n",
      "Enter burst time for process 1: 3\n",
      "Enter arrival time for process 2: 1\n",
      "Enter burst time for process 2: 6\n",
      "Enter arrival time for process 3: 2\n",
      "Enter burst time for process 3: 4\n",
      "Enter arrival time for process 4: 3\n",
      "Enter burst time for process 4: 1\n",
      "Enter arrival time for process 5: 4\n",
      "Enter burst time for process 5: 3\n"
     ]
    }
   ],
   "source": [
    "n = int(input(\"Enter the number of processes: \"))\n",
    "\n",
    "arrival_time = []\n",
    "burst_time = []\n",
    "completion_time = [0] * n\n",
    "waiting_time = [0] * n\n",
    "turnaround_time = [0] * n\n",
    "\n",
    "for i in range(n):\n",
    "    arrival_time.append(int(input(f\"Enter arrival time for process {i+1}: \")))\n",
    "    burst_time.append(int(input(f\"Enter burst time for process {i+1}: \")))"
   ]
  },
  {
   "cell_type": "code",
   "execution_count": 4,
   "id": "48d14d32",
   "metadata": {},
   "outputs": [
    {
     "name": "stdout",
     "output_type": "stream",
     "text": [
      "Process\tArrival\tBurst\tCompletion\tTurnaround\tWaiting\n",
      "P1\t0\t3\t3\t\t3\t\t0\n",
      "P2\t1\t6\t9\t\t8\t\t2\n",
      "P3\t2\t4\t13\t\t11\t\t7\n",
      "P4\t3\t1\t14\t\t11\t\t10\n",
      "P5\t4\t3\t17\t\t13\t\t10\n"
     ]
    }
   ],
   "source": [
    "completion_time[0] = arrival_time[0] + burst_time[0]\n",
    "for i in range(1, n):\n",
    "    if arrival_time[i] > completion_time[i-1]:\n",
    "        completion_time[i] = arrival_time[i] + burst_time[i]\n",
    "    else:\n",
    "        completion_time[i] = completion_time[i-1] + burst_time[i]\n",
    "\n",
    "for i in range(n):\n",
    "    turnaround_time[i] = completion_time[i] - arrival_time[i]\n",
    "    waiting_time[i] = turnaround_time[i] - burst_time[i]\n",
    "\n",
    "print(\"Process\\tArrival\\tBurst\\tCompletion\\tTurnaround\\tWaiting\")\n",
    "for i in range(n):\n",
    "    print(f\"P{i+1}\\t{arrival_time[i]}\\t{burst_time[i]}\\t{completion_time[i]}\\t\\t{turnaround_time[i]}\\t\\t{waiting_time[i]}\")\n"
   ]
  },
  {
   "cell_type": "code",
   "execution_count": 5,
   "id": "d2e2f55e",
   "metadata": {},
   "outputs": [
    {
     "name": "stdout",
     "output_type": "stream",
     "text": [
      "Enter the number of processes: 5\n",
      "Enter burst time for process 1: 0\n",
      "Enter burst time for process 2: 3\n",
      "Enter burst time for process 3: 1\n",
      "Enter burst time for process 4: 6\n",
      "Enter burst time for process 5: 2\n"
     ]
    }
   ],
   "source": [
    "n = int(input(\"Enter the number of processes: \"))\n",
    "\n",
    "burst_time = []\n",
    "completion_time = [0] * n\n",
    "waiting_time = [0] * n\n",
    "turnaround_time = [0] * n\n",
    "\n",
    "for i in range(n):\n",
    "    burst_time.append(int(input(f\"Enter burst time for process {i+1}: \")))\n"
   ]
  },
  {
   "cell_type": "code",
   "execution_count": 14,
   "id": "663ec21a",
   "metadata": {},
   "outputs": [
    {
     "name": "stdout",
     "output_type": "stream",
     "text": [
      "Process\tBurst\tCompletion\tTurnaround\tWaiting\n",
      "P1\t0\t0\t\t0\t\t0\n",
      "P2\t3\t3\t\t3\t\t0\n",
      "P3\t1\t4\t\t4\t\t3\n",
      "P4\t6\t10\t\t10\t\t4\n",
      "P5\t2\t12\t\t12\t\t10\n"
     ]
    }
   ],
   "source": [
    "for i in range(n):\n",
    "    completion_time[i] = burst_time[i]\n",
    "    for j in range(i):\n",
    "        completion_time[i] += burst_time[j]\n",
    "\n",
    "turnaround_time = [0] * n\n",
    "waiting_time = [0] * n\n",
    "\n",
    "for i in range(n):\n",
    "    turnaround_time[i] = completion_time[i]\n",
    "    waiting_time[i] = turnaround_time[i] - burst_time[i]\n",
    "\n",
    "print(\"Process\\tBurst\\tCompletion\\tTurnaround\\tWaiting\")\n",
    "for i in range(n):\n",
    "    print(f'P{i+1}\\t{burst_time[i]}\\t{completion_time[i]}\\t\\t{turnaround_time[i]}\\t\\t{waiting_time[i]}')"
   ]
  },
  {
   "cell_type": "code",
   "execution_count": null,
   "id": "043e4c08",
   "metadata": {},
   "outputs": [],
   "source": []
  }
 ],
 "metadata": {
  "kernelspec": {
   "display_name": "Python 3 (ipykernel)",
   "language": "python",
   "name": "python3"
  },
  "language_info": {
   "codemirror_mode": {
    "name": "ipython",
    "version": 3
   },
   "file_extension": ".py",
   "mimetype": "text/x-python",
   "name": "python",
   "nbconvert_exporter": "python",
   "pygments_lexer": "ipython3",
   "version": "3.11.3"
  }
 },
 "nbformat": 4,
 "nbformat_minor": 5
}
